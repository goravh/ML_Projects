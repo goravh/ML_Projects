{
  "nbformat": 4,
  "nbformat_minor": 0,
  "metadata": {
    "colab": {
      "name": "Big Mart Sales Prediction.ipynb",
      "provenance": [],
      "collapsed_sections": [],
      "mount_file_id": "1gr2y_mZn1SQR4Ae7w1IBTL-xO818Wzns",
      "authorship_tag": "ABX9TyOQk1/au7HlEWqNKvkWSlPO",
      "include_colab_link": true
    },
    "kernelspec": {
      "name": "python3",
      "display_name": "Python 3"
    },
    "language_info": {
      "name": "python"
    }
  },
  "cells": [
    {
      "cell_type": "markdown",
      "metadata": {
        "id": "view-in-github",
        "colab_type": "text"
      },
      "source": [
        "<a href=\"https://colab.research.google.com/github/goravh/ML_Projects/blob/main/Big_Mart_Sales_Prediction.ipynb\" target=\"_parent\"><img src=\"https://colab.research.google.com/assets/colab-badge.svg\" alt=\"Open In Colab\"/></a>"
      ]
    },
    {
      "cell_type": "markdown",
      "source": [
        "# Big Mart Sales Prediction"
      ],
      "metadata": {
        "id": "eFvrCQmdPOGj"
      }
    },
    {
      "cell_type": "markdown",
      "source": [
        "![download (2).jpg](data:image/jpeg;base64,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)"
      ],
      "metadata": {
        "id": "iScQ6deUPfXZ"
      }
    },
    {
      "cell_type": "markdown",
      "source": [
        ""
      ],
      "metadata": {
        "id": "QNBcMZV9PLTn"
      }
    },
    {
      "cell_type": "markdown",
      "source": [
        "![download.jpg](data:image/jpeg;base64,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)"
      ],
      "metadata": {
        "id": "3ND5NkK6Pl9k"
      }
    },
    {
      "cell_type": "markdown",
      "source": [
        "# Problem Statement"
      ],
      "metadata": {
        "id": "6q_ITWjdPtBv"
      }
    },
    {
      "cell_type": "markdown",
      "source": [
        "The data scientists at BigMart have collected 2013 sales data for 1559 products across 10 stores in different cities. Also, certain attributes of each product and store have been defined. The aim is to build a predictive model and find out the sales of each product at a particular store. Using this model, BigMart will try to understand the properties of products and stores which play a key role in increasing sales."
      ],
      "metadata": {
        "id": "9ys4t0HNPyDR"
      }
    },
    {
      "cell_type": "markdown",
      "source": [
        "# Importing Dependencies"
      ],
      "metadata": {
        "id": "249rmzmrQXCx"
      }
    },
    {
      "cell_type": "code",
      "source": [
        "import numpy as np\n",
        "import pandas as pd\n",
        "import matplotlib.pyplot as plt\n",
        "import seaborn as sns"
      ],
      "metadata": {
        "id": "Rm8iyuceQe9o"
      },
      "execution_count": 1,
      "outputs": []
    },
    {
      "cell_type": "markdown",
      "source": [
        "# EDA"
      ],
      "metadata": {
        "id": "73zD7__JQwKH"
      }
    },
    {
      "cell_type": "code",
      "source": [
        "# Reading the dataset\n",
        "DF=pd.read_csv(r'/content/drive/MyDrive/ML_Projects/Big Mart Sales Prediction/train.csv')\n",
        "DF"
      ],
      "metadata": {
        "colab": {
          "base_uri": "https://localhost:8080/",
          "height": 661
        },
        "id": "10oxFRM6figf",
        "outputId": "42db4f96-9c11-4654-cd3a-3030257cab13"
      },
      "execution_count": 2,
      "outputs": [
        {
          "output_type": "execute_result",
          "data": {
            "text/plain": [
              "     Item_Identifier  Item_Weight Item_Fat_Content  Item_Visibility  \\\n",
              "0              FDA15        9.300          Low Fat         0.016047   \n",
              "1              DRC01        5.920          Regular         0.019278   \n",
              "2              FDN15       17.500          Low Fat         0.016760   \n",
              "3              FDX07       19.200          Regular         0.000000   \n",
              "4              NCD19        8.930          Low Fat         0.000000   \n",
              "...              ...          ...              ...              ...   \n",
              "8518           FDF22        6.865          Low Fat         0.056783   \n",
              "8519           FDS36        8.380          Regular         0.046982   \n",
              "8520           NCJ29       10.600          Low Fat         0.035186   \n",
              "8521           FDN46        7.210          Regular         0.145221   \n",
              "8522           DRG01       14.800          Low Fat         0.044878   \n",
              "\n",
              "                  Item_Type  Item_MRP Outlet_Identifier  \\\n",
              "0                     Dairy  249.8092            OUT049   \n",
              "1               Soft Drinks   48.2692            OUT018   \n",
              "2                      Meat  141.6180            OUT049   \n",
              "3     Fruits and Vegetables  182.0950            OUT010   \n",
              "4                 Household   53.8614            OUT013   \n",
              "...                     ...       ...               ...   \n",
              "8518            Snack Foods  214.5218            OUT013   \n",
              "8519           Baking Goods  108.1570            OUT045   \n",
              "8520     Health and Hygiene   85.1224            OUT035   \n",
              "8521            Snack Foods  103.1332            OUT018   \n",
              "8522            Soft Drinks   75.4670            OUT046   \n",
              "\n",
              "      Outlet_Establishment_Year Outlet_Size Outlet_Location_Type  \\\n",
              "0                          1999      Medium               Tier 1   \n",
              "1                          2009      Medium               Tier 3   \n",
              "2                          1999      Medium               Tier 1   \n",
              "3                          1998         NaN               Tier 3   \n",
              "4                          1987        High               Tier 3   \n",
              "...                         ...         ...                  ...   \n",
              "8518                       1987        High               Tier 3   \n",
              "8519                       2002         NaN               Tier 2   \n",
              "8520                       2004       Small               Tier 2   \n",
              "8521                       2009      Medium               Tier 3   \n",
              "8522                       1997       Small               Tier 1   \n",
              "\n",
              "            Outlet_Type  Item_Outlet_Sales  \n",
              "0     Supermarket Type1          3735.1380  \n",
              "1     Supermarket Type2           443.4228  \n",
              "2     Supermarket Type1          2097.2700  \n",
              "3         Grocery Store           732.3800  \n",
              "4     Supermarket Type1           994.7052  \n",
              "...                 ...                ...  \n",
              "8518  Supermarket Type1          2778.3834  \n",
              "8519  Supermarket Type1           549.2850  \n",
              "8520  Supermarket Type1          1193.1136  \n",
              "8521  Supermarket Type2          1845.5976  \n",
              "8522  Supermarket Type1           765.6700  \n",
              "\n",
              "[8523 rows x 12 columns]"
            ],
            "text/html": [
              "\n",
              "  <div id=\"df-838203d1-b87e-4bc0-babd-620100b97e89\">\n",
              "    <div class=\"colab-df-container\">\n",
              "      <div>\n",
              "<style scoped>\n",
              "    .dataframe tbody tr th:only-of-type {\n",
              "        vertical-align: middle;\n",
              "    }\n",
              "\n",
              "    .dataframe tbody tr th {\n",
              "        vertical-align: top;\n",
              "    }\n",
              "\n",
              "    .dataframe thead th {\n",
              "        text-align: right;\n",
              "    }\n",
              "</style>\n",
              "<table border=\"1\" class=\"dataframe\">\n",
              "  <thead>\n",
              "    <tr style=\"text-align: right;\">\n",
              "      <th></th>\n",
              "      <th>Item_Identifier</th>\n",
              "      <th>Item_Weight</th>\n",
              "      <th>Item_Fat_Content</th>\n",
              "      <th>Item_Visibility</th>\n",
              "      <th>Item_Type</th>\n",
              "      <th>Item_MRP</th>\n",
              "      <th>Outlet_Identifier</th>\n",
              "      <th>Outlet_Establishment_Year</th>\n",
              "      <th>Outlet_Size</th>\n",
              "      <th>Outlet_Location_Type</th>\n",
              "      <th>Outlet_Type</th>\n",
              "      <th>Item_Outlet_Sales</th>\n",
              "    </tr>\n",
              "  </thead>\n",
              "  <tbody>\n",
              "    <tr>\n",
              "      <th>0</th>\n",
              "      <td>FDA15</td>\n",
              "      <td>9.300</td>\n",
              "      <td>Low Fat</td>\n",
              "      <td>0.016047</td>\n",
              "      <td>Dairy</td>\n",
              "      <td>249.8092</td>\n",
              "      <td>OUT049</td>\n",
              "      <td>1999</td>\n",
              "      <td>Medium</td>\n",
              "      <td>Tier 1</td>\n",
              "      <td>Supermarket Type1</td>\n",
              "      <td>3735.1380</td>\n",
              "    </tr>\n",
              "    <tr>\n",
              "      <th>1</th>\n",
              "      <td>DRC01</td>\n",
              "      <td>5.920</td>\n",
              "      <td>Regular</td>\n",
              "      <td>0.019278</td>\n",
              "      <td>Soft Drinks</td>\n",
              "      <td>48.2692</td>\n",
              "      <td>OUT018</td>\n",
              "      <td>2009</td>\n",
              "      <td>Medium</td>\n",
              "      <td>Tier 3</td>\n",
              "      <td>Supermarket Type2</td>\n",
              "      <td>443.4228</td>\n",
              "    </tr>\n",
              "    <tr>\n",
              "      <th>2</th>\n",
              "      <td>FDN15</td>\n",
              "      <td>17.500</td>\n",
              "      <td>Low Fat</td>\n",
              "      <td>0.016760</td>\n",
              "      <td>Meat</td>\n",
              "      <td>141.6180</td>\n",
              "      <td>OUT049</td>\n",
              "      <td>1999</td>\n",
              "      <td>Medium</td>\n",
              "      <td>Tier 1</td>\n",
              "      <td>Supermarket Type1</td>\n",
              "      <td>2097.2700</td>\n",
              "    </tr>\n",
              "    <tr>\n",
              "      <th>3</th>\n",
              "      <td>FDX07</td>\n",
              "      <td>19.200</td>\n",
              "      <td>Regular</td>\n",
              "      <td>0.000000</td>\n",
              "      <td>Fruits and Vegetables</td>\n",
              "      <td>182.0950</td>\n",
              "      <td>OUT010</td>\n",
              "      <td>1998</td>\n",
              "      <td>NaN</td>\n",
              "      <td>Tier 3</td>\n",
              "      <td>Grocery Store</td>\n",
              "      <td>732.3800</td>\n",
              "    </tr>\n",
              "    <tr>\n",
              "      <th>4</th>\n",
              "      <td>NCD19</td>\n",
              "      <td>8.930</td>\n",
              "      <td>Low Fat</td>\n",
              "      <td>0.000000</td>\n",
              "      <td>Household</td>\n",
              "      <td>53.8614</td>\n",
              "      <td>OUT013</td>\n",
              "      <td>1987</td>\n",
              "      <td>High</td>\n",
              "      <td>Tier 3</td>\n",
              "      <td>Supermarket Type1</td>\n",
              "      <td>994.7052</td>\n",
              "    </tr>\n",
              "    <tr>\n",
              "      <th>...</th>\n",
              "      <td>...</td>\n",
              "      <td>...</td>\n",
              "      <td>...</td>\n",
              "      <td>...</td>\n",
              "      <td>...</td>\n",
              "      <td>...</td>\n",
              "      <td>...</td>\n",
              "      <td>...</td>\n",
              "      <td>...</td>\n",
              "      <td>...</td>\n",
              "      <td>...</td>\n",
              "      <td>...</td>\n",
              "    </tr>\n",
              "    <tr>\n",
              "      <th>8518</th>\n",
              "      <td>FDF22</td>\n",
              "      <td>6.865</td>\n",
              "      <td>Low Fat</td>\n",
              "      <td>0.056783</td>\n",
              "      <td>Snack Foods</td>\n",
              "      <td>214.5218</td>\n",
              "      <td>OUT013</td>\n",
              "      <td>1987</td>\n",
              "      <td>High</td>\n",
              "      <td>Tier 3</td>\n",
              "      <td>Supermarket Type1</td>\n",
              "      <td>2778.3834</td>\n",
              "    </tr>\n",
              "    <tr>\n",
              "      <th>8519</th>\n",
              "      <td>FDS36</td>\n",
              "      <td>8.380</td>\n",
              "      <td>Regular</td>\n",
              "      <td>0.046982</td>\n",
              "      <td>Baking Goods</td>\n",
              "      <td>108.1570</td>\n",
              "      <td>OUT045</td>\n",
              "      <td>2002</td>\n",
              "      <td>NaN</td>\n",
              "      <td>Tier 2</td>\n",
              "      <td>Supermarket Type1</td>\n",
              "      <td>549.2850</td>\n",
              "    </tr>\n",
              "    <tr>\n",
              "      <th>8520</th>\n",
              "      <td>NCJ29</td>\n",
              "      <td>10.600</td>\n",
              "      <td>Low Fat</td>\n",
              "      <td>0.035186</td>\n",
              "      <td>Health and Hygiene</td>\n",
              "      <td>85.1224</td>\n",
              "      <td>OUT035</td>\n",
              "      <td>2004</td>\n",
              "      <td>Small</td>\n",
              "      <td>Tier 2</td>\n",
              "      <td>Supermarket Type1</td>\n",
              "      <td>1193.1136</td>\n",
              "    </tr>\n",
              "    <tr>\n",
              "      <th>8521</th>\n",
              "      <td>FDN46</td>\n",
              "      <td>7.210</td>\n",
              "      <td>Regular</td>\n",
              "      <td>0.145221</td>\n",
              "      <td>Snack Foods</td>\n",
              "      <td>103.1332</td>\n",
              "      <td>OUT018</td>\n",
              "      <td>2009</td>\n",
              "      <td>Medium</td>\n",
              "      <td>Tier 3</td>\n",
              "      <td>Supermarket Type2</td>\n",
              "      <td>1845.5976</td>\n",
              "    </tr>\n",
              "    <tr>\n",
              "      <th>8522</th>\n",
              "      <td>DRG01</td>\n",
              "      <td>14.800</td>\n",
              "      <td>Low Fat</td>\n",
              "      <td>0.044878</td>\n",
              "      <td>Soft Drinks</td>\n",
              "      <td>75.4670</td>\n",
              "      <td>OUT046</td>\n",
              "      <td>1997</td>\n",
              "      <td>Small</td>\n",
              "      <td>Tier 1</td>\n",
              "      <td>Supermarket Type1</td>\n",
              "      <td>765.6700</td>\n",
              "    </tr>\n",
              "  </tbody>\n",
              "</table>\n",
              "<p>8523 rows × 12 columns</p>\n",
              "</div>\n",
              "      <button class=\"colab-df-convert\" onclick=\"convertToInteractive('df-838203d1-b87e-4bc0-babd-620100b97e89')\"\n",
              "              title=\"Convert this dataframe to an interactive table.\"\n",
              "              style=\"display:none;\">\n",
              "        \n",
              "  <svg xmlns=\"http://www.w3.org/2000/svg\" height=\"24px\"viewBox=\"0 0 24 24\"\n",
              "       width=\"24px\">\n",
              "    <path d=\"M0 0h24v24H0V0z\" fill=\"none\"/>\n",
              "    <path d=\"M18.56 5.44l.94 2.06.94-2.06 2.06-.94-2.06-.94-.94-2.06-.94 2.06-2.06.94zm-11 1L8.5 8.5l.94-2.06 2.06-.94-2.06-.94L8.5 2.5l-.94 2.06-2.06.94zm10 10l.94 2.06.94-2.06 2.06-.94-2.06-.94-.94-2.06-.94 2.06-2.06.94z\"/><path d=\"M17.41 7.96l-1.37-1.37c-.4-.4-.92-.59-1.43-.59-.52 0-1.04.2-1.43.59L10.3 9.45l-7.72 7.72c-.78.78-.78 2.05 0 2.83L4 21.41c.39.39.9.59 1.41.59.51 0 1.02-.2 1.41-.59l7.78-7.78 2.81-2.81c.8-.78.8-2.07 0-2.86zM5.41 20L4 18.59l7.72-7.72 1.47 1.35L5.41 20z\"/>\n",
              "  </svg>\n",
              "      </button>\n",
              "      \n",
              "  <style>\n",
              "    .colab-df-container {\n",
              "      display:flex;\n",
              "      flex-wrap:wrap;\n",
              "      gap: 12px;\n",
              "    }\n",
              "\n",
              "    .colab-df-convert {\n",
              "      background-color: #E8F0FE;\n",
              "      border: none;\n",
              "      border-radius: 50%;\n",
              "      cursor: pointer;\n",
              "      display: none;\n",
              "      fill: #1967D2;\n",
              "      height: 32px;\n",
              "      padding: 0 0 0 0;\n",
              "      width: 32px;\n",
              "    }\n",
              "\n",
              "    .colab-df-convert:hover {\n",
              "      background-color: #E2EBFA;\n",
              "      box-shadow: 0px 1px 2px rgba(60, 64, 67, 0.3), 0px 1px 3px 1px rgba(60, 64, 67, 0.15);\n",
              "      fill: #174EA6;\n",
              "    }\n",
              "\n",
              "    [theme=dark] .colab-df-convert {\n",
              "      background-color: #3B4455;\n",
              "      fill: #D2E3FC;\n",
              "    }\n",
              "\n",
              "    [theme=dark] .colab-df-convert:hover {\n",
              "      background-color: #434B5C;\n",
              "      box-shadow: 0px 1px 3px 1px rgba(0, 0, 0, 0.15);\n",
              "      filter: drop-shadow(0px 1px 2px rgba(0, 0, 0, 0.3));\n",
              "      fill: #FFFFFF;\n",
              "    }\n",
              "  </style>\n",
              "\n",
              "      <script>\n",
              "        const buttonEl =\n",
              "          document.querySelector('#df-838203d1-b87e-4bc0-babd-620100b97e89 button.colab-df-convert');\n",
              "        buttonEl.style.display =\n",
              "          google.colab.kernel.accessAllowed ? 'block' : 'none';\n",
              "\n",
              "        async function convertToInteractive(key) {\n",
              "          const element = document.querySelector('#df-838203d1-b87e-4bc0-babd-620100b97e89');\n",
              "          const dataTable =\n",
              "            await google.colab.kernel.invokeFunction('convertToInteractive',\n",
              "                                                     [key], {});\n",
              "          if (!dataTable) return;\n",
              "\n",
              "          const docLinkHtml = 'Like what you see? Visit the ' +\n",
              "            '<a target=\"_blank\" href=https://colab.research.google.com/notebooks/data_table.ipynb>data table notebook</a>'\n",
              "            + ' to learn more about interactive tables.';\n",
              "          element.innerHTML = '';\n",
              "          dataTable['output_type'] = 'display_data';\n",
              "          await google.colab.output.renderOutput(dataTable, element);\n",
              "          const docLink = document.createElement('div');\n",
              "          docLink.innerHTML = docLinkHtml;\n",
              "          element.appendChild(docLink);\n",
              "        }\n",
              "      </script>\n",
              "    </div>\n",
              "  </div>\n",
              "  "
            ]
          },
          "metadata": {},
          "execution_count": 2
        }
      ]
    },
    {
      "cell_type": "code",
      "source": [
        "# to display first 5 rows\n",
        "DF.head()"
      ],
      "metadata": {
        "colab": {
          "base_uri": "https://localhost:8080/",
          "height": 357
        },
        "id": "7Xi-1CKBgpCu",
        "outputId": "6c3a1377-75f6-4796-afb5-545c8bf7ca3e"
      },
      "execution_count": 3,
      "outputs": [
        {
          "output_type": "execute_result",
          "data": {
            "text/plain": [
              "  Item_Identifier  Item_Weight Item_Fat_Content  Item_Visibility  \\\n",
              "0           FDA15         9.30          Low Fat         0.016047   \n",
              "1           DRC01         5.92          Regular         0.019278   \n",
              "2           FDN15        17.50          Low Fat         0.016760   \n",
              "3           FDX07        19.20          Regular         0.000000   \n",
              "4           NCD19         8.93          Low Fat         0.000000   \n",
              "\n",
              "               Item_Type  Item_MRP Outlet_Identifier  \\\n",
              "0                  Dairy  249.8092            OUT049   \n",
              "1            Soft Drinks   48.2692            OUT018   \n",
              "2                   Meat  141.6180            OUT049   \n",
              "3  Fruits and Vegetables  182.0950            OUT010   \n",
              "4              Household   53.8614            OUT013   \n",
              "\n",
              "   Outlet_Establishment_Year Outlet_Size Outlet_Location_Type  \\\n",
              "0                       1999      Medium               Tier 1   \n",
              "1                       2009      Medium               Tier 3   \n",
              "2                       1999      Medium               Tier 1   \n",
              "3                       1998         NaN               Tier 3   \n",
              "4                       1987        High               Tier 3   \n",
              "\n",
              "         Outlet_Type  Item_Outlet_Sales  \n",
              "0  Supermarket Type1          3735.1380  \n",
              "1  Supermarket Type2           443.4228  \n",
              "2  Supermarket Type1          2097.2700  \n",
              "3      Grocery Store           732.3800  \n",
              "4  Supermarket Type1           994.7052  "
            ],
            "text/html": [
              "\n",
              "  <div id=\"df-47574ae2-7a05-42f9-b8e7-b67c969f1191\">\n",
              "    <div class=\"colab-df-container\">\n",
              "      <div>\n",
              "<style scoped>\n",
              "    .dataframe tbody tr th:only-of-type {\n",
              "        vertical-align: middle;\n",
              "    }\n",
              "\n",
              "    .dataframe tbody tr th {\n",
              "        vertical-align: top;\n",
              "    }\n",
              "\n",
              "    .dataframe thead th {\n",
              "        text-align: right;\n",
              "    }\n",
              "</style>\n",
              "<table border=\"1\" class=\"dataframe\">\n",
              "  <thead>\n",
              "    <tr style=\"text-align: right;\">\n",
              "      <th></th>\n",
              "      <th>Item_Identifier</th>\n",
              "      <th>Item_Weight</th>\n",
              "      <th>Item_Fat_Content</th>\n",
              "      <th>Item_Visibility</th>\n",
              "      <th>Item_Type</th>\n",
              "      <th>Item_MRP</th>\n",
              "      <th>Outlet_Identifier</th>\n",
              "      <th>Outlet_Establishment_Year</th>\n",
              "      <th>Outlet_Size</th>\n",
              "      <th>Outlet_Location_Type</th>\n",
              "      <th>Outlet_Type</th>\n",
              "      <th>Item_Outlet_Sales</th>\n",
              "    </tr>\n",
              "  </thead>\n",
              "  <tbody>\n",
              "    <tr>\n",
              "      <th>0</th>\n",
              "      <td>FDA15</td>\n",
              "      <td>9.30</td>\n",
              "      <td>Low Fat</td>\n",
              "      <td>0.016047</td>\n",
              "      <td>Dairy</td>\n",
              "      <td>249.8092</td>\n",
              "      <td>OUT049</td>\n",
              "      <td>1999</td>\n",
              "      <td>Medium</td>\n",
              "      <td>Tier 1</td>\n",
              "      <td>Supermarket Type1</td>\n",
              "      <td>3735.1380</td>\n",
              "    </tr>\n",
              "    <tr>\n",
              "      <th>1</th>\n",
              "      <td>DRC01</td>\n",
              "      <td>5.92</td>\n",
              "      <td>Regular</td>\n",
              "      <td>0.019278</td>\n",
              "      <td>Soft Drinks</td>\n",
              "      <td>48.2692</td>\n",
              "      <td>OUT018</td>\n",
              "      <td>2009</td>\n",
              "      <td>Medium</td>\n",
              "      <td>Tier 3</td>\n",
              "      <td>Supermarket Type2</td>\n",
              "      <td>443.4228</td>\n",
              "    </tr>\n",
              "    <tr>\n",
              "      <th>2</th>\n",
              "      <td>FDN15</td>\n",
              "      <td>17.50</td>\n",
              "      <td>Low Fat</td>\n",
              "      <td>0.016760</td>\n",
              "      <td>Meat</td>\n",
              "      <td>141.6180</td>\n",
              "      <td>OUT049</td>\n",
              "      <td>1999</td>\n",
              "      <td>Medium</td>\n",
              "      <td>Tier 1</td>\n",
              "      <td>Supermarket Type1</td>\n",
              "      <td>2097.2700</td>\n",
              "    </tr>\n",
              "    <tr>\n",
              "      <th>3</th>\n",
              "      <td>FDX07</td>\n",
              "      <td>19.20</td>\n",
              "      <td>Regular</td>\n",
              "      <td>0.000000</td>\n",
              "      <td>Fruits and Vegetables</td>\n",
              "      <td>182.0950</td>\n",
              "      <td>OUT010</td>\n",
              "      <td>1998</td>\n",
              "      <td>NaN</td>\n",
              "      <td>Tier 3</td>\n",
              "      <td>Grocery Store</td>\n",
              "      <td>732.3800</td>\n",
              "    </tr>\n",
              "    <tr>\n",
              "      <th>4</th>\n",
              "      <td>NCD19</td>\n",
              "      <td>8.93</td>\n",
              "      <td>Low Fat</td>\n",
              "      <td>0.000000</td>\n",
              "      <td>Household</td>\n",
              "      <td>53.8614</td>\n",
              "      <td>OUT013</td>\n",
              "      <td>1987</td>\n",
              "      <td>High</td>\n",
              "      <td>Tier 3</td>\n",
              "      <td>Supermarket Type1</td>\n",
              "      <td>994.7052</td>\n",
              "    </tr>\n",
              "  </tbody>\n",
              "</table>\n",
              "</div>\n",
              "      <button class=\"colab-df-convert\" onclick=\"convertToInteractive('df-47574ae2-7a05-42f9-b8e7-b67c969f1191')\"\n",
              "              title=\"Convert this dataframe to an interactive table.\"\n",
              "              style=\"display:none;\">\n",
              "        \n",
              "  <svg xmlns=\"http://www.w3.org/2000/svg\" height=\"24px\"viewBox=\"0 0 24 24\"\n",
              "       width=\"24px\">\n",
              "    <path d=\"M0 0h24v24H0V0z\" fill=\"none\"/>\n",
              "    <path d=\"M18.56 5.44l.94 2.06.94-2.06 2.06-.94-2.06-.94-.94-2.06-.94 2.06-2.06.94zm-11 1L8.5 8.5l.94-2.06 2.06-.94-2.06-.94L8.5 2.5l-.94 2.06-2.06.94zm10 10l.94 2.06.94-2.06 2.06-.94-2.06-.94-.94-2.06-.94 2.06-2.06.94z\"/><path d=\"M17.41 7.96l-1.37-1.37c-.4-.4-.92-.59-1.43-.59-.52 0-1.04.2-1.43.59L10.3 9.45l-7.72 7.72c-.78.78-.78 2.05 0 2.83L4 21.41c.39.39.9.59 1.41.59.51 0 1.02-.2 1.41-.59l7.78-7.78 2.81-2.81c.8-.78.8-2.07 0-2.86zM5.41 20L4 18.59l7.72-7.72 1.47 1.35L5.41 20z\"/>\n",
              "  </svg>\n",
              "      </button>\n",
              "      \n",
              "  <style>\n",
              "    .colab-df-container {\n",
              "      display:flex;\n",
              "      flex-wrap:wrap;\n",
              "      gap: 12px;\n",
              "    }\n",
              "\n",
              "    .colab-df-convert {\n",
              "      background-color: #E8F0FE;\n",
              "      border: none;\n",
              "      border-radius: 50%;\n",
              "      cursor: pointer;\n",
              "      display: none;\n",
              "      fill: #1967D2;\n",
              "      height: 32px;\n",
              "      padding: 0 0 0 0;\n",
              "      width: 32px;\n",
              "    }\n",
              "\n",
              "    .colab-df-convert:hover {\n",
              "      background-color: #E2EBFA;\n",
              "      box-shadow: 0px 1px 2px rgba(60, 64, 67, 0.3), 0px 1px 3px 1px rgba(60, 64, 67, 0.15);\n",
              "      fill: #174EA6;\n",
              "    }\n",
              "\n",
              "    [theme=dark] .colab-df-convert {\n",
              "      background-color: #3B4455;\n",
              "      fill: #D2E3FC;\n",
              "    }\n",
              "\n",
              "    [theme=dark] .colab-df-convert:hover {\n",
              "      background-color: #434B5C;\n",
              "      box-shadow: 0px 1px 3px 1px rgba(0, 0, 0, 0.15);\n",
              "      filter: drop-shadow(0px 1px 2px rgba(0, 0, 0, 0.3));\n",
              "      fill: #FFFFFF;\n",
              "    }\n",
              "  </style>\n",
              "\n",
              "      <script>\n",
              "        const buttonEl =\n",
              "          document.querySelector('#df-47574ae2-7a05-42f9-b8e7-b67c969f1191 button.colab-df-convert');\n",
              "        buttonEl.style.display =\n",
              "          google.colab.kernel.accessAllowed ? 'block' : 'none';\n",
              "\n",
              "        async function convertToInteractive(key) {\n",
              "          const element = document.querySelector('#df-47574ae2-7a05-42f9-b8e7-b67c969f1191');\n",
              "          const dataTable =\n",
              "            await google.colab.kernel.invokeFunction('convertToInteractive',\n",
              "                                                     [key], {});\n",
              "          if (!dataTable) return;\n",
              "\n",
              "          const docLinkHtml = 'Like what you see? Visit the ' +\n",
              "            '<a target=\"_blank\" href=https://colab.research.google.com/notebooks/data_table.ipynb>data table notebook</a>'\n",
              "            + ' to learn more about interactive tables.';\n",
              "          element.innerHTML = '';\n",
              "          dataTable['output_type'] = 'display_data';\n",
              "          await google.colab.output.renderOutput(dataTable, element);\n",
              "          const docLink = document.createElement('div');\n",
              "          docLink.innerHTML = docLinkHtml;\n",
              "          element.appendChild(docLink);\n",
              "        }\n",
              "      </script>\n",
              "    </div>\n",
              "  </div>\n",
              "  "
            ]
          },
          "metadata": {},
          "execution_count": 3
        }
      ]
    },
    {
      "cell_type": "code",
      "source": [
        "# to display last 5 rows\n",
        "DF.tail()"
      ],
      "metadata": {
        "colab": {
          "base_uri": "https://localhost:8080/",
          "height": 357
        },
        "id": "QRW4PQ-tgu_W",
        "outputId": "1d0a97a1-7a5c-4233-8594-73157c17f210"
      },
      "execution_count": 4,
      "outputs": [
        {
          "output_type": "execute_result",
          "data": {
            "text/plain": [
              "     Item_Identifier  Item_Weight Item_Fat_Content  Item_Visibility  \\\n",
              "8518           FDF22        6.865          Low Fat         0.056783   \n",
              "8519           FDS36        8.380          Regular         0.046982   \n",
              "8520           NCJ29       10.600          Low Fat         0.035186   \n",
              "8521           FDN46        7.210          Regular         0.145221   \n",
              "8522           DRG01       14.800          Low Fat         0.044878   \n",
              "\n",
              "               Item_Type  Item_MRP Outlet_Identifier  \\\n",
              "8518         Snack Foods  214.5218            OUT013   \n",
              "8519        Baking Goods  108.1570            OUT045   \n",
              "8520  Health and Hygiene   85.1224            OUT035   \n",
              "8521         Snack Foods  103.1332            OUT018   \n",
              "8522         Soft Drinks   75.4670            OUT046   \n",
              "\n",
              "      Outlet_Establishment_Year Outlet_Size Outlet_Location_Type  \\\n",
              "8518                       1987        High               Tier 3   \n",
              "8519                       2002         NaN               Tier 2   \n",
              "8520                       2004       Small               Tier 2   \n",
              "8521                       2009      Medium               Tier 3   \n",
              "8522                       1997       Small               Tier 1   \n",
              "\n",
              "            Outlet_Type  Item_Outlet_Sales  \n",
              "8518  Supermarket Type1          2778.3834  \n",
              "8519  Supermarket Type1           549.2850  \n",
              "8520  Supermarket Type1          1193.1136  \n",
              "8521  Supermarket Type2          1845.5976  \n",
              "8522  Supermarket Type1           765.6700  "
            ],
            "text/html": [
              "\n",
              "  <div id=\"df-933afe71-6e4e-41f4-8597-1665153da1d7\">\n",
              "    <div class=\"colab-df-container\">\n",
              "      <div>\n",
              "<style scoped>\n",
              "    .dataframe tbody tr th:only-of-type {\n",
              "        vertical-align: middle;\n",
              "    }\n",
              "\n",
              "    .dataframe tbody tr th {\n",
              "        vertical-align: top;\n",
              "    }\n",
              "\n",
              "    .dataframe thead th {\n",
              "        text-align: right;\n",
              "    }\n",
              "</style>\n",
              "<table border=\"1\" class=\"dataframe\">\n",
              "  <thead>\n",
              "    <tr style=\"text-align: right;\">\n",
              "      <th></th>\n",
              "      <th>Item_Identifier</th>\n",
              "      <th>Item_Weight</th>\n",
              "      <th>Item_Fat_Content</th>\n",
              "      <th>Item_Visibility</th>\n",
              "      <th>Item_Type</th>\n",
              "      <th>Item_MRP</th>\n",
              "      <th>Outlet_Identifier</th>\n",
              "      <th>Outlet_Establishment_Year</th>\n",
              "      <th>Outlet_Size</th>\n",
              "      <th>Outlet_Location_Type</th>\n",
              "      <th>Outlet_Type</th>\n",
              "      <th>Item_Outlet_Sales</th>\n",
              "    </tr>\n",
              "  </thead>\n",
              "  <tbody>\n",
              "    <tr>\n",
              "      <th>8518</th>\n",
              "      <td>FDF22</td>\n",
              "      <td>6.865</td>\n",
              "      <td>Low Fat</td>\n",
              "      <td>0.056783</td>\n",
              "      <td>Snack Foods</td>\n",
              "      <td>214.5218</td>\n",
              "      <td>OUT013</td>\n",
              "      <td>1987</td>\n",
              "      <td>High</td>\n",
              "      <td>Tier 3</td>\n",
              "      <td>Supermarket Type1</td>\n",
              "      <td>2778.3834</td>\n",
              "    </tr>\n",
              "    <tr>\n",
              "      <th>8519</th>\n",
              "      <td>FDS36</td>\n",
              "      <td>8.380</td>\n",
              "      <td>Regular</td>\n",
              "      <td>0.046982</td>\n",
              "      <td>Baking Goods</td>\n",
              "      <td>108.1570</td>\n",
              "      <td>OUT045</td>\n",
              "      <td>2002</td>\n",
              "      <td>NaN</td>\n",
              "      <td>Tier 2</td>\n",
              "      <td>Supermarket Type1</td>\n",
              "      <td>549.2850</td>\n",
              "    </tr>\n",
              "    <tr>\n",
              "      <th>8520</th>\n",
              "      <td>NCJ29</td>\n",
              "      <td>10.600</td>\n",
              "      <td>Low Fat</td>\n",
              "      <td>0.035186</td>\n",
              "      <td>Health and Hygiene</td>\n",
              "      <td>85.1224</td>\n",
              "      <td>OUT035</td>\n",
              "      <td>2004</td>\n",
              "      <td>Small</td>\n",
              "      <td>Tier 2</td>\n",
              "      <td>Supermarket Type1</td>\n",
              "      <td>1193.1136</td>\n",
              "    </tr>\n",
              "    <tr>\n",
              "      <th>8521</th>\n",
              "      <td>FDN46</td>\n",
              "      <td>7.210</td>\n",
              "      <td>Regular</td>\n",
              "      <td>0.145221</td>\n",
              "      <td>Snack Foods</td>\n",
              "      <td>103.1332</td>\n",
              "      <td>OUT018</td>\n",
              "      <td>2009</td>\n",
              "      <td>Medium</td>\n",
              "      <td>Tier 3</td>\n",
              "      <td>Supermarket Type2</td>\n",
              "      <td>1845.5976</td>\n",
              "    </tr>\n",
              "    <tr>\n",
              "      <th>8522</th>\n",
              "      <td>DRG01</td>\n",
              "      <td>14.800</td>\n",
              "      <td>Low Fat</td>\n",
              "      <td>0.044878</td>\n",
              "      <td>Soft Drinks</td>\n",
              "      <td>75.4670</td>\n",
              "      <td>OUT046</td>\n",
              "      <td>1997</td>\n",
              "      <td>Small</td>\n",
              "      <td>Tier 1</td>\n",
              "      <td>Supermarket Type1</td>\n",
              "      <td>765.6700</td>\n",
              "    </tr>\n",
              "  </tbody>\n",
              "</table>\n",
              "</div>\n",
              "      <button class=\"colab-df-convert\" onclick=\"convertToInteractive('df-933afe71-6e4e-41f4-8597-1665153da1d7')\"\n",
              "              title=\"Convert this dataframe to an interactive table.\"\n",
              "              style=\"display:none;\">\n",
              "        \n",
              "  <svg xmlns=\"http://www.w3.org/2000/svg\" height=\"24px\"viewBox=\"0 0 24 24\"\n",
              "       width=\"24px\">\n",
              "    <path d=\"M0 0h24v24H0V0z\" fill=\"none\"/>\n",
              "    <path d=\"M18.56 5.44l.94 2.06.94-2.06 2.06-.94-2.06-.94-.94-2.06-.94 2.06-2.06.94zm-11 1L8.5 8.5l.94-2.06 2.06-.94-2.06-.94L8.5 2.5l-.94 2.06-2.06.94zm10 10l.94 2.06.94-2.06 2.06-.94-2.06-.94-.94-2.06-.94 2.06-2.06.94z\"/><path d=\"M17.41 7.96l-1.37-1.37c-.4-.4-.92-.59-1.43-.59-.52 0-1.04.2-1.43.59L10.3 9.45l-7.72 7.72c-.78.78-.78 2.05 0 2.83L4 21.41c.39.39.9.59 1.41.59.51 0 1.02-.2 1.41-.59l7.78-7.78 2.81-2.81c.8-.78.8-2.07 0-2.86zM5.41 20L4 18.59l7.72-7.72 1.47 1.35L5.41 20z\"/>\n",
              "  </svg>\n",
              "      </button>\n",
              "      \n",
              "  <style>\n",
              "    .colab-df-container {\n",
              "      display:flex;\n",
              "      flex-wrap:wrap;\n",
              "      gap: 12px;\n",
              "    }\n",
              "\n",
              "    .colab-df-convert {\n",
              "      background-color: #E8F0FE;\n",
              "      border: none;\n",
              "      border-radius: 50%;\n",
              "      cursor: pointer;\n",
              "      display: none;\n",
              "      fill: #1967D2;\n",
              "      height: 32px;\n",
              "      padding: 0 0 0 0;\n",
              "      width: 32px;\n",
              "    }\n",
              "\n",
              "    .colab-df-convert:hover {\n",
              "      background-color: #E2EBFA;\n",
              "      box-shadow: 0px 1px 2px rgba(60, 64, 67, 0.3), 0px 1px 3px 1px rgba(60, 64, 67, 0.15);\n",
              "      fill: #174EA6;\n",
              "    }\n",
              "\n",
              "    [theme=dark] .colab-df-convert {\n",
              "      background-color: #3B4455;\n",
              "      fill: #D2E3FC;\n",
              "    }\n",
              "\n",
              "    [theme=dark] .colab-df-convert:hover {\n",
              "      background-color: #434B5C;\n",
              "      box-shadow: 0px 1px 3px 1px rgba(0, 0, 0, 0.15);\n",
              "      filter: drop-shadow(0px 1px 2px rgba(0, 0, 0, 0.3));\n",
              "      fill: #FFFFFF;\n",
              "    }\n",
              "  </style>\n",
              "\n",
              "      <script>\n",
              "        const buttonEl =\n",
              "          document.querySelector('#df-933afe71-6e4e-41f4-8597-1665153da1d7 button.colab-df-convert');\n",
              "        buttonEl.style.display =\n",
              "          google.colab.kernel.accessAllowed ? 'block' : 'none';\n",
              "\n",
              "        async function convertToInteractive(key) {\n",
              "          const element = document.querySelector('#df-933afe71-6e4e-41f4-8597-1665153da1d7');\n",
              "          const dataTable =\n",
              "            await google.colab.kernel.invokeFunction('convertToInteractive',\n",
              "                                                     [key], {});\n",
              "          if (!dataTable) return;\n",
              "\n",
              "          const docLinkHtml = 'Like what you see? Visit the ' +\n",
              "            '<a target=\"_blank\" href=https://colab.research.google.com/notebooks/data_table.ipynb>data table notebook</a>'\n",
              "            + ' to learn more about interactive tables.';\n",
              "          element.innerHTML = '';\n",
              "          dataTable['output_type'] = 'display_data';\n",
              "          await google.colab.output.renderOutput(dataTable, element);\n",
              "          const docLink = document.createElement('div');\n",
              "          docLink.innerHTML = docLinkHtml;\n",
              "          element.appendChild(docLink);\n",
              "        }\n",
              "      </script>\n",
              "    </div>\n",
              "  </div>\n",
              "  "
            ]
          },
          "metadata": {},
          "execution_count": 4
        }
      ]
    },
    {
      "cell_type": "code",
      "source": [
        "# to check dataset shape\n",
        "DF.shape"
      ],
      "metadata": {
        "colab": {
          "base_uri": "https://localhost:8080/"
        },
        "id": "KLWNEXc8gxz9",
        "outputId": "3288d167-77ca-4823-d16c-5cecbafd00b4"
      },
      "execution_count": 5,
      "outputs": [
        {
          "output_type": "execute_result",
          "data": {
            "text/plain": [
              "(8523, 12)"
            ]
          },
          "metadata": {},
          "execution_count": 5
        }
      ]
    },
    {
      "cell_type": "code",
      "source": [
        "# to get dataset information\n",
        "DF.info()"
      ],
      "metadata": {
        "colab": {
          "base_uri": "https://localhost:8080/"
        },
        "id": "jAQaQ3-xgz1_",
        "outputId": "0560d233-b6bd-4f06-d2dc-23bc2492e24c"
      },
      "execution_count": 6,
      "outputs": [
        {
          "output_type": "stream",
          "name": "stdout",
          "text": [
            "<class 'pandas.core.frame.DataFrame'>\n",
            "RangeIndex: 8523 entries, 0 to 8522\n",
            "Data columns (total 12 columns):\n",
            " #   Column                     Non-Null Count  Dtype  \n",
            "---  ------                     --------------  -----  \n",
            " 0   Item_Identifier            8523 non-null   object \n",
            " 1   Item_Weight                7060 non-null   float64\n",
            " 2   Item_Fat_Content           8523 non-null   object \n",
            " 3   Item_Visibility            8523 non-null   float64\n",
            " 4   Item_Type                  8523 non-null   object \n",
            " 5   Item_MRP                   8523 non-null   float64\n",
            " 6   Outlet_Identifier          8523 non-null   object \n",
            " 7   Outlet_Establishment_Year  8523 non-null   int64  \n",
            " 8   Outlet_Size                6113 non-null   object \n",
            " 9   Outlet_Location_Type       8523 non-null   object \n",
            " 10  Outlet_Type                8523 non-null   object \n",
            " 11  Item_Outlet_Sales          8523 non-null   float64\n",
            "dtypes: float64(4), int64(1), object(7)\n",
            "memory usage: 799.2+ KB\n"
          ]
        }
      ]
    },
    {
      "cell_type": "code",
      "source": [
        "# to check dataset data types\n",
        "DF.dtypes"
      ],
      "metadata": {
        "colab": {
          "base_uri": "https://localhost:8080/"
        },
        "id": "DsMWc3y0g2EE",
        "outputId": "9ac9f50e-e79c-4a93-c555-77aef97373db"
      },
      "execution_count": 7,
      "outputs": [
        {
          "output_type": "execute_result",
          "data": {
            "text/plain": [
              "Item_Identifier               object\n",
              "Item_Weight                  float64\n",
              "Item_Fat_Content              object\n",
              "Item_Visibility              float64\n",
              "Item_Type                     object\n",
              "Item_MRP                     float64\n",
              "Outlet_Identifier             object\n",
              "Outlet_Establishment_Year      int64\n",
              "Outlet_Size                   object\n",
              "Outlet_Location_Type          object\n",
              "Outlet_Type                   object\n",
              "Item_Outlet_Sales            float64\n",
              "dtype: object"
            ]
          },
          "metadata": {},
          "execution_count": 7
        }
      ]
    },
    {
      "cell_type": "code",
      "source": [
        "# to display categorical columns\n",
        "cat_col=[]\n",
        "for x in DF.dtypes.index:\n",
        "    if DF.dtypes[x]=='object':\n",
        "        cat_col.append(x)\n",
        "cat_col"
      ],
      "metadata": {
        "colab": {
          "base_uri": "https://localhost:8080/"
        },
        "id": "-LdYtWNCg6ia",
        "outputId": "95f24d56-1587-4ec7-da2c-68ccae1d269e"
      },
      "execution_count": 8,
      "outputs": [
        {
          "output_type": "execute_result",
          "data": {
            "text/plain": [
              "['Item_Identifier',\n",
              " 'Item_Fat_Content',\n",
              " 'Item_Type',\n",
              " 'Outlet_Identifier',\n",
              " 'Outlet_Size',\n",
              " 'Outlet_Location_Type',\n",
              " 'Outlet_Type']"
            ]
          },
          "metadata": {},
          "execution_count": 8
        }
      ]
    },
    {
      "cell_type": "code",
      "source": [
        "# checking the different items in Item Idemtifier\n",
        "DF['Item_Identifier'].value_counts()"
      ],
      "metadata": {
        "colab": {
          "base_uri": "https://localhost:8080/"
        },
        "id": "y_GkkBBGg-Dw",
        "outputId": "ac065fa8-e8b7-4b3a-d5db-25d7827bc5a3"
      },
      "execution_count": 9,
      "outputs": [
        {
          "output_type": "execute_result",
          "data": {
            "text/plain": [
              "FDW13    10\n",
              "FDG33    10\n",
              "NCY18     9\n",
              "FDD38     9\n",
              "DRE49     9\n",
              "         ..\n",
              "FDY43     1\n",
              "FDQ60     1\n",
              "FDO33     1\n",
              "DRF48     1\n",
              "FDC23     1\n",
              "Name: Item_Identifier, Length: 1559, dtype: int64"
            ]
          },
          "metadata": {},
          "execution_count": 9
        }
      ]
    },
    {
      "cell_type": "code",
      "source": [
        "# To check statistical values of dataset\n",
        "DF.describe()"
      ],
      "metadata": {
        "colab": {
          "base_uri": "https://localhost:8080/",
          "height": 300
        },
        "id": "bhbYVXzhhALn",
        "outputId": "a5a2e2e8-0e05-4bd7-e123-3ecc4ef8fefe"
      },
      "execution_count": 10,
      "outputs": [
        {
          "output_type": "execute_result",
          "data": {
            "text/plain": [
              "       Item_Weight  Item_Visibility     Item_MRP  Outlet_Establishment_Year  \\\n",
              "count  7060.000000      8523.000000  8523.000000                8523.000000   \n",
              "mean     12.857645         0.066132   140.992782                1997.831867   \n",
              "std       4.643456         0.051598    62.275067                   8.371760   \n",
              "min       4.555000         0.000000    31.290000                1985.000000   \n",
              "25%       8.773750         0.026989    93.826500                1987.000000   \n",
              "50%      12.600000         0.053931   143.012800                1999.000000   \n",
              "75%      16.850000         0.094585   185.643700                2004.000000   \n",
              "max      21.350000         0.328391   266.888400                2009.000000   \n",
              "\n",
              "       Item_Outlet_Sales  \n",
              "count        8523.000000  \n",
              "mean         2181.288914  \n",
              "std          1706.499616  \n",
              "min            33.290000  \n",
              "25%           834.247400  \n",
              "50%          1794.331000  \n",
              "75%          3101.296400  \n",
              "max         13086.964800  "
            ],
            "text/html": [
              "\n",
              "  <div id=\"df-00644064-b600-4a10-8dfe-287db8184dca\">\n",
              "    <div class=\"colab-df-container\">\n",
              "      <div>\n",
              "<style scoped>\n",
              "    .dataframe tbody tr th:only-of-type {\n",
              "        vertical-align: middle;\n",
              "    }\n",
              "\n",
              "    .dataframe tbody tr th {\n",
              "        vertical-align: top;\n",
              "    }\n",
              "\n",
              "    .dataframe thead th {\n",
              "        text-align: right;\n",
              "    }\n",
              "</style>\n",
              "<table border=\"1\" class=\"dataframe\">\n",
              "  <thead>\n",
              "    <tr style=\"text-align: right;\">\n",
              "      <th></th>\n",
              "      <th>Item_Weight</th>\n",
              "      <th>Item_Visibility</th>\n",
              "      <th>Item_MRP</th>\n",
              "      <th>Outlet_Establishment_Year</th>\n",
              "      <th>Item_Outlet_Sales</th>\n",
              "    </tr>\n",
              "  </thead>\n",
              "  <tbody>\n",
              "    <tr>\n",
              "      <th>count</th>\n",
              "      <td>7060.000000</td>\n",
              "      <td>8523.000000</td>\n",
              "      <td>8523.000000</td>\n",
              "      <td>8523.000000</td>\n",
              "      <td>8523.000000</td>\n",
              "    </tr>\n",
              "    <tr>\n",
              "      <th>mean</th>\n",
              "      <td>12.857645</td>\n",
              "      <td>0.066132</td>\n",
              "      <td>140.992782</td>\n",
              "      <td>1997.831867</td>\n",
              "      <td>2181.288914</td>\n",
              "    </tr>\n",
              "    <tr>\n",
              "      <th>std</th>\n",
              "      <td>4.643456</td>\n",
              "      <td>0.051598</td>\n",
              "      <td>62.275067</td>\n",
              "      <td>8.371760</td>\n",
              "      <td>1706.499616</td>\n",
              "    </tr>\n",
              "    <tr>\n",
              "      <th>min</th>\n",
              "      <td>4.555000</td>\n",
              "      <td>0.000000</td>\n",
              "      <td>31.290000</td>\n",
              "      <td>1985.000000</td>\n",
              "      <td>33.290000</td>\n",
              "    </tr>\n",
              "    <tr>\n",
              "      <th>25%</th>\n",
              "      <td>8.773750</td>\n",
              "      <td>0.026989</td>\n",
              "      <td>93.826500</td>\n",
              "      <td>1987.000000</td>\n",
              "      <td>834.247400</td>\n",
              "    </tr>\n",
              "    <tr>\n",
              "      <th>50%</th>\n",
              "      <td>12.600000</td>\n",
              "      <td>0.053931</td>\n",
              "      <td>143.012800</td>\n",
              "      <td>1999.000000</td>\n",
              "      <td>1794.331000</td>\n",
              "    </tr>\n",
              "    <tr>\n",
              "      <th>75%</th>\n",
              "      <td>16.850000</td>\n",
              "      <td>0.094585</td>\n",
              "      <td>185.643700</td>\n",
              "      <td>2004.000000</td>\n",
              "      <td>3101.296400</td>\n",
              "    </tr>\n",
              "    <tr>\n",
              "      <th>max</th>\n",
              "      <td>21.350000</td>\n",
              "      <td>0.328391</td>\n",
              "      <td>266.888400</td>\n",
              "      <td>2009.000000</td>\n",
              "      <td>13086.964800</td>\n",
              "    </tr>\n",
              "  </tbody>\n",
              "</table>\n",
              "</div>\n",
              "      <button class=\"colab-df-convert\" onclick=\"convertToInteractive('df-00644064-b600-4a10-8dfe-287db8184dca')\"\n",
              "              title=\"Convert this dataframe to an interactive table.\"\n",
              "              style=\"display:none;\">\n",
              "        \n",
              "  <svg xmlns=\"http://www.w3.org/2000/svg\" height=\"24px\"viewBox=\"0 0 24 24\"\n",
              "       width=\"24px\">\n",
              "    <path d=\"M0 0h24v24H0V0z\" fill=\"none\"/>\n",
              "    <path d=\"M18.56 5.44l.94 2.06.94-2.06 2.06-.94-2.06-.94-.94-2.06-.94 2.06-2.06.94zm-11 1L8.5 8.5l.94-2.06 2.06-.94-2.06-.94L8.5 2.5l-.94 2.06-2.06.94zm10 10l.94 2.06.94-2.06 2.06-.94-2.06-.94-.94-2.06-.94 2.06-2.06.94z\"/><path d=\"M17.41 7.96l-1.37-1.37c-.4-.4-.92-.59-1.43-.59-.52 0-1.04.2-1.43.59L10.3 9.45l-7.72 7.72c-.78.78-.78 2.05 0 2.83L4 21.41c.39.39.9.59 1.41.59.51 0 1.02-.2 1.41-.59l7.78-7.78 2.81-2.81c.8-.78.8-2.07 0-2.86zM5.41 20L4 18.59l7.72-7.72 1.47 1.35L5.41 20z\"/>\n",
              "  </svg>\n",
              "      </button>\n",
              "      \n",
              "  <style>\n",
              "    .colab-df-container {\n",
              "      display:flex;\n",
              "      flex-wrap:wrap;\n",
              "      gap: 12px;\n",
              "    }\n",
              "\n",
              "    .colab-df-convert {\n",
              "      background-color: #E8F0FE;\n",
              "      border: none;\n",
              "      border-radius: 50%;\n",
              "      cursor: pointer;\n",
              "      display: none;\n",
              "      fill: #1967D2;\n",
              "      height: 32px;\n",
              "      padding: 0 0 0 0;\n",
              "      width: 32px;\n",
              "    }\n",
              "\n",
              "    .colab-df-convert:hover {\n",
              "      background-color: #E2EBFA;\n",
              "      box-shadow: 0px 1px 2px rgba(60, 64, 67, 0.3), 0px 1px 3px 1px rgba(60, 64, 67, 0.15);\n",
              "      fill: #174EA6;\n",
              "    }\n",
              "\n",
              "    [theme=dark] .colab-df-convert {\n",
              "      background-color: #3B4455;\n",
              "      fill: #D2E3FC;\n",
              "    }\n",
              "\n",
              "    [theme=dark] .colab-df-convert:hover {\n",
              "      background-color: #434B5C;\n",
              "      box-shadow: 0px 1px 3px 1px rgba(0, 0, 0, 0.15);\n",
              "      filter: drop-shadow(0px 1px 2px rgba(0, 0, 0, 0.3));\n",
              "      fill: #FFFFFF;\n",
              "    }\n",
              "  </style>\n",
              "\n",
              "      <script>\n",
              "        const buttonEl =\n",
              "          document.querySelector('#df-00644064-b600-4a10-8dfe-287db8184dca button.colab-df-convert');\n",
              "        buttonEl.style.display =\n",
              "          google.colab.kernel.accessAllowed ? 'block' : 'none';\n",
              "\n",
              "        async function convertToInteractive(key) {\n",
              "          const element = document.querySelector('#df-00644064-b600-4a10-8dfe-287db8184dca');\n",
              "          const dataTable =\n",
              "            await google.colab.kernel.invokeFunction('convertToInteractive',\n",
              "                                                     [key], {});\n",
              "          if (!dataTable) return;\n",
              "\n",
              "          const docLinkHtml = 'Like what you see? Visit the ' +\n",
              "            '<a target=\"_blank\" href=https://colab.research.google.com/notebooks/data_table.ipynb>data table notebook</a>'\n",
              "            + ' to learn more about interactive tables.';\n",
              "          element.innerHTML = '';\n",
              "          dataTable['output_type'] = 'display_data';\n",
              "          await google.colab.output.renderOutput(dataTable, element);\n",
              "          const docLink = document.createElement('div');\n",
              "          docLink.innerHTML = docLinkHtml;\n",
              "          element.appendChild(docLink);\n",
              "        }\n",
              "      </script>\n",
              "    </div>\n",
              "  </div>\n",
              "  "
            ]
          },
          "metadata": {},
          "execution_count": 10
        }
      ]
    },
    {
      "cell_type": "code",
      "source": [
        "sns.set()"
      ],
      "metadata": {
        "id": "HWEje81MhD2u"
      },
      "execution_count": 11,
      "outputs": []
    },
    {
      "cell_type": "code",
      "source": [
        "# item_weight distribution plot\n",
        "plt.figure(figsize=(6,6))\n",
        "sns.distplot(DF['Item_Weight'])\n",
        "plt.show()"
      ],
      "metadata": {
        "colab": {
          "base_uri": "https://localhost:8080/",
          "height": 449
        },
        "id": "_-CY-_qthGJm",
        "outputId": "0f495f0f-180d-4402-c279-a8fff4a2090b"
      },
      "execution_count": 12,
      "outputs": [
        {
          "output_type": "stream",
          "name": "stderr",
          "text": [
            "/usr/local/lib/python3.7/dist-packages/seaborn/distributions.py:2619: FutureWarning: `distplot` is a deprecated function and will be removed in a future version. Please adapt your code to use either `displot` (a figure-level function with similar flexibility) or `histplot` (an axes-level function for histograms).\n",
            "  warnings.warn(msg, FutureWarning)\n"
          ]
        },
        {
          "output_type": "display_data",
          "data": {
            "text/plain": [
              "<Figure size 432x432 with 1 Axes>"
            ],
            "image/png": "[encoded data removed]"
          },
          "metadata": {}
        }
      ]
    },
    {
      "cell_type": "code",
      "source": [
        "# Item_Visibility distribution plot\n",
        "plt.figure(figsize=(6,6))\n",
        "sns.distplot(DF['Item_Visibility'])\n",
        "plt.show()"
      ],
      "metadata": {
        "colab": {
          "base_uri": "https://localhost:8080/",
          "height": 449
        },
        "id": "SKbv_9-5hICa",
        "outputId": "d1ca7d7a-69a2-49fb-9d8b-10591d43d4c6"
      },
      "execution_count": 13,
      "outputs": [
        {
          "output_type": "stream",
          "name": "stderr",
          "text": [
            "/usr/local/lib/python3.7/dist-packages/seaborn/distributions.py:2619: FutureWarning: `distplot` is a deprecated function and will be removed in a future version. Please adapt your code to use either `displot` (a figure-level function with similar flexibility) or `histplot` (an axes-level function for histograms).\n",
            "  warnings.warn(msg, FutureWarning)\n"
          ]
        },
        {
          "output_type": "display_data",
          "data": {
            "text/plain": [
              "<Figure size 432x432 with 1 Axes>"
            ],
            "image/png": "[encoded data removed]"
          },
          "metadata": {}
        }
      ]
    },
    {
      "cell_type": "code",
      "source": [
        "# Item_MRP distribution plot\n",
        "plt.figure(figsize=(6,6))\n",
        "sns.distplot(DF['Item_MRP'])\n",
        "plt.show()"
      ],
      "metadata": {
        "colab": {
          "base_uri": "https://localhost:8080/",
          "height": 449
        },
        "id": "sc-8UlhghKmM",
        "outputId": "bdf2fa18-10a2-4c8b-b584-373cf7504dbc"
      },
      "execution_count": 14,
      "outputs": [
        {
          "output_type": "stream",
          "name": "stderr",
          "text": [
            "/usr/local/lib/python3.7/dist-packages/seaborn/distributions.py:2619: FutureWarning: `distplot` is a deprecated function and will be removed in a future version. Please adapt your code to use either `displot` (a figure-level function with similar flexibility) or `histplot` (an axes-level function for histograms).\n",
            "  warnings.warn(msg, FutureWarning)\n"
          ]
        },
        {
          "output_type": "display_data",
          "data": {
            "text/plain": [
              "<Figure size 432x432 with 1 Axes>"
            ],
            "image/png": "[encoded data removed]"
          },
          "metadata": {}
        }
      ]
    },
    {
      "cell_type": "code",
      "source": [
        "# Item_Outlet_Sales distribution plot\n",
        "plt.figure(figsize=(6,6))\n",
        "sns.distplot(DF['Item_Outlet_Sales'])\n",
        "plt.show()"
      ],
      "metadata": {
        "colab": {
          "base_uri": "https://localhost:8080/",
          "height": 449
        },
        "id": "DzB8ciTThOHP",
        "outputId": "ffefeca5-89a5-4fab-ac0a-8d6d5803cc9f"
      },
      "execution_count": 15,
      "outputs": [
        {
          "output_type": "stream",
          "name": "stderr",
          "text": [
            "/usr/local/lib/python3.7/dist-packages/seaborn/distributions.py:2619: FutureWarning: `distplot` is a deprecated function and will be removed in a future version. Please adapt your code to use either `displot` (a figure-level function with similar flexibility) or `histplot` (an axes-level function for histograms).\n",
            "  warnings.warn(msg, FutureWarning)\n"
          ]
        },
        {
          "output_type": "display_data",
          "data": {
            "text/plain": [
              "<Figure size 432x432 with 1 Axes>"
            ],
            "image/png": "[encoded data removed]"
          },
          "metadata": {}
        }
      ]
    },
    {
      "cell_type": "code",
      "source": [
        "plt.figure(figsize=(6,6))\n",
        "sns.countplot(x='Outlet_Establishment_Year',data=DF)\n",
        "plt.show"
      ],
      "metadata": {
        "colab": {
          "base_uri": "https://localhost:8080/",
          "height": 411
        },
        "id": "lqD69cG9hQmW",
        "outputId": "c80388ea-7bf2-4048-d705-f2f0ed69e377"
      },
      "execution_count": 16,
      "outputs": [
        {
          "output_type": "execute_result",
          "data": {
            "text/plain": [
              "<function matplotlib.pyplot.show(*args, **kw)>"
            ]
          },
          "metadata": {},
          "execution_count": 16
        },
        {
          "output_type": "display_data",
          "data": {
            "text/plain": [
              "<Figure size 432x432 with 1 Axes>"
            ],
            "image/png": "[encoded data removed]"
          },
          "metadata": {}
        }
      ]
    },
    {
      "cell_type": "code",
      "source": [
        "# we will analyze only the training set\n",
        "DF['Item_Identifier'].value_counts(normalize = True)\n",
        "DF['Item_Identifier'].value_counts().plot.hist()\n",
        "plt.title('Different types of item available in the store')\n",
        "plt.xlabel('Item Identifier')\n",
        "plt.ylabel('Number of Items')\n",
        "plt.legend()\n",
        "plt.show()"
      ],
      "metadata": {
        "colab": {
          "base_uri": "https://localhost:8080/",
          "height": 301
        },
        "id": "56hce6HxhTLw",
        "outputId": "bf3e85b6-d1f8-49e4-eb26-a0b32cf96127"
      },
      "execution_count": 17,
      "outputs": [
        {
          "output_type": "display_data",
          "data": {
            "text/plain": [
              "<Figure size 432x288 with 1 Axes>"
            ],
            "image/png": "[encoded data removed]"
          },
          "metadata": {}
        }
      ]
    },
    {
      "cell_type": "code",
      "source": [
        "# checking the different items in Item Fat Content\n",
        "DF['Item_Fat_Content'].value_counts()"
      ],
      "metadata": {
        "colab": {
          "base_uri": "https://localhost:8080/"
        },
        "id": "NSI83SM-hWAm",
        "outputId": "c52f8a8f-5fce-49b3-ff63-1c893fb50f69"
      },
      "execution_count": 18,
      "outputs": [
        {
          "output_type": "execute_result",
          "data": {
            "text/plain": [
              "Low Fat    5089\n",
              "Regular    2889\n",
              "LF          316\n",
              "reg         117\n",
              "low fat     112\n",
              "Name: Item_Fat_Content, dtype: int64"
            ]
          },
          "metadata": {},
          "execution_count": 18
        }
      ]
    },
    {
      "cell_type": "code",
      "source": [
        "# checking different varieties of item fat content\n",
        "DF['Item_Fat_Content'].value_counts(normalize = True)\n",
        "DF['Item_Fat_Content'].value_counts().plot.bar()\n",
        "plt.title('Different varieties of fats in item in the store')\n",
        "plt.xlabel('Fat')\n",
        "plt.ylabel('Number of Items')\n",
        "plt.show()"
      ],
      "metadata": {
        "colab": {
          "base_uri": "https://localhost:8080/",
          "height": 333
        },
        "id": "7WYkXDfVhZx4",
        "outputId": "013d5d9b-7f38-4491-b71f-7f0967425c15"
      },
      "execution_count": 19,
      "outputs": [
        {
          "output_type": "display_data",
          "data": {
            "text/plain": [
              "<Figure size 432x288 with 1 Axes>"
            ],
            "image/png": "[encoded data removed]"
          },
          "metadata": {}
        }
      ]
    },
    {
      "cell_type": "code",
      "source": [
        "# checking the different items in Item Type\n",
        "DF['Item_Type'].value_counts()"
      ],
      "metadata": {
        "colab": {
          "base_uri": "https://localhost:8080/"
        },
        "id": "ah1bggoIhcQ8",
        "outputId": "5049a17a-2be0-4250-c08c-6eea087a4bc1"
      },
      "execution_count": 20,
      "outputs": [
        {
          "output_type": "execute_result",
          "data": {
            "text/plain": [
              "Fruits and Vegetables    1232\n",
              "Snack Foods              1200\n",
              "Household                 910\n",
              "Frozen Foods              856\n",
              "Dairy                     682\n",
              "Canned                    649\n",
              "Baking Goods              648\n",
              "Health and Hygiene        520\n",
              "Soft Drinks               445\n",
              "Meat                      425\n",
              "Breads                    251\n",
              "Hard Drinks               214\n",
              "Others                    169\n",
              "Starchy Foods             148\n",
              "Breakfast                 110\n",
              "Seafood                    64\n",
              "Name: Item_Type, dtype: int64"
            ]
          },
          "metadata": {},
          "execution_count": 20
        }
      ]
    },
    {
      "cell_type": "code",
      "source": [
        "# we will analyze only the training set\n",
        "DF['Item_Type'].value_counts(normalize = True)\n",
        "DF['Item_Type'].value_counts().plot.bar()\n",
        "plt.title('Different types of item available in the store')\n",
        "plt.xlabel('Item')\n",
        "plt.ylabel('Number of Items')\n",
        "plt.show()"
      ],
      "metadata": {
        "colab": {
          "base_uri": "https://localhost:8080/",
          "height": 410
        },
        "id": "jbhR0bBxhe0p",
        "outputId": "b1d574aa-adaa-42c4-8f22-13e2438069fe"
      },
      "execution_count": 21,
      "outputs": [
        {
          "output_type": "display_data",
          "data": {
            "text/plain": [
              "<Figure size 432x288 with 1 Axes>"
            ],
            "image/png": "[encoded data removed]"
          },
          "metadata": {}
        }
      ]
    },
    {
      "cell_type": "code",
      "source": [
        "# checking the different types of Outlet Identifier\n",
        "DF['Outlet_Identifier'].value_counts()"
      ],
      "metadata": {
        "colab": {
          "base_uri": "https://localhost:8080/"
        },
        "id": "uGJZCXwihh1N",
        "outputId": "dd49c77a-d4c3-4ccd-9d56-e2cb778ac6ed"
      },
      "execution_count": 22,
      "outputs": [
        {
          "output_type": "execute_result",
          "data": {
            "text/plain": [
              "OUT027    935\n",
              "OUT013    932\n",
              "OUT049    930\n",
              "OUT046    930\n",
              "OUT035    930\n",
              "OUT045    929\n",
              "OUT018    928\n",
              "OUT017    926\n",
              "OUT010    555\n",
              "OUT019    528\n",
              "Name: Outlet_Identifier, dtype: int64"
            ]
          },
          "metadata": {},
          "execution_count": 22
        }
      ]
    },
    {
      "cell_type": "code",
      "source": [
        "# we will analyze only the training set\n",
        "DF['Outlet_Identifier'].value_counts(normalize = True)\n",
        "DF['Outlet_Identifier'].value_counts().plot.bar()\n",
        "plt.title('Different types of outlet identifier in the store')\n",
        "plt.xlabel('Item')\n",
        "plt.ylabel('Number of Items')\n",
        "plt.show()"
      ],
      "metadata": {
        "colab": {
          "base_uri": "https://localhost:8080/",
          "height": 335
        },
        "id": "-cvm1x1whkle",
        "outputId": "0057a297-261e-45cf-80e3-ab625ac38b43"
      },
      "execution_count": 23,
      "outputs": [
        {
          "output_type": "display_data",
          "data": {
            "text/plain": [
              "<Figure size 432x288 with 1 Axes>"
            ],
            "image/png": "[encoded data removed]"
          },
          "metadata": {}
        }
      ]
    },
    {
      "cell_type": "code",
      "source": [
        "# checking the different types of Outlet Size\n",
        "DF['Outlet_Size'].value_counts()"
      ],
      "metadata": {
        "colab": {
          "base_uri": "https://localhost:8080/"
        },
        "id": "TSPOxydihnqY",
        "outputId": "1f6362d4-91fd-467e-ccb2-c5a536f5c7e1"
      },
      "execution_count": 24,
      "outputs": [
        {
          "output_type": "execute_result",
          "data": {
            "text/plain": [
              "Medium    2793\n",
              "Small     2388\n",
              "High       932\n",
              "Name: Outlet_Size, dtype: int64"
            ]
          },
          "metadata": {},
          "execution_count": 24
        }
      ]
    },
    {
      "cell_type": "code",
      "source": [
        "# we will analyze only the training set\n",
        "DF['Outlet_Size'].value_counts(normalize = True)\n",
        "DF['Outlet_Size'].value_counts().plot.bar()\n",
        "plt.title('Different types of outlet sizes in the store')\n",
        "plt.xlabel('Item')\n",
        "plt.ylabel('Number of Items')\n",
        "plt.show()"
      ],
      "metadata": {
        "colab": {
          "base_uri": "https://localhost:8080/",
          "height": 335
        },
        "id": "3EOF52VAhqKj",
        "outputId": "b4aa3fc0-c8b0-41ef-a681-1890f405feeb"
      },
      "execution_count": 25,
      "outputs": [
        {
          "output_type": "display_data",
          "data": {
            "text/plain": [
              "<Figure size 432x288 with 1 Axes>"
            ],
            "image/png": "[encoded data removed]"
          },
          "metadata": {}
        }
      ]
    },
    {
      "cell_type": "code",
      "source": [
        "# checking different types of items in Outlet Location Type\n",
        "DF['Outlet_Location_Type'].value_counts()"
      ],
      "metadata": {
        "colab": {
          "base_uri": "https://localhost:8080/"
        },
        "id": "qU-d_hBhhvPG",
        "outputId": "a7a2344d-eab4-42ed-c8db-a0e965defc1b"
      },
      "execution_count": 26,
      "outputs": [
        {
          "output_type": "execute_result",
          "data": {
            "text/plain": [
              "Tier 3    3350\n",
              "Tier 2    2785\n",
              "Tier 1    2388\n",
              "Name: Outlet_Location_Type, dtype: int64"
            ]
          },
          "metadata": {},
          "execution_count": 26
        }
      ]
    },
    {
      "cell_type": "code",
      "source": [
        "# we will analyze only the training set\n",
        "DF['Outlet_Location_Type'].value_counts(normalize = True)\n",
        "DF['Outlet_Location_Type'].value_counts().plot.bar()\n",
        "plt.title('Different types of outlet location types in the store')\n",
        "plt.xlabel('Item')\n",
        "plt.ylabel('Number of Items')\n",
        "plt.show()"
      ],
      "metadata": {
        "colab": {
          "base_uri": "https://localhost:8080/",
          "height": 322
        },
        "id": "w6JwNqSQhx5Z",
        "outputId": "72024d1e-c144-406e-ba70-40ed1d2371e0"
      },
      "execution_count": 27,
      "outputs": [
        {
          "output_type": "display_data",
          "data": {
            "text/plain": [
              "<Figure size 432x288 with 1 Axes>"
            ],
            "image/png": "[encoded data removed]"
          },
          "metadata": {}
        }
      ]
    },
    {
      "cell_type": "code",
      "source": [
        "\n",
        "# checking different types of item in Outlet Type\n",
        "DF['Outlet_Type'].value_counts()"
      ],
      "metadata": {
        "colab": {
          "base_uri": "https://localhost:8080/"
        },
        "id": "4K4XvIJHh0ob",
        "outputId": "f3d1cc0a-ba63-440a-deb8-26e40e9fc767"
      },
      "execution_count": 28,
      "outputs": [
        {
          "output_type": "execute_result",
          "data": {
            "text/plain": [
              "Supermarket Type1    5577\n",
              "Grocery Store        1083\n",
              "Supermarket Type3     935\n",
              "Supermarket Type2     928\n",
              "Name: Outlet_Type, dtype: int64"
            ]
          },
          "metadata": {},
          "execution_count": 28
        }
      ]
    },
    {
      "cell_type": "code",
      "source": [
        "# we will analyze only the training set\n",
        "DF['Outlet_Type'].value_counts(normalize = True)\n",
        "DF['Outlet_Type'].value_counts().plot.bar()\n",
        "plt.title('Different types of outlet types in the store')\n",
        "plt.xlabel('Item')\n",
        "plt.ylabel('Number of Items')\n",
        "plt.show()"
      ],
      "metadata": {
        "colab": {
          "base_uri": "https://localhost:8080/",
          "height": 398
        },
        "id": "9mPICIolh4x3",
        "outputId": "6e99673b-f51e-456d-f714-d4c455abf850"
      },
      "execution_count": 29,
      "outputs": [
        {
          "output_type": "display_data",
          "data": {
            "text/plain": [
              "<Figure size 432x288 with 1 Axes>"
            ],
            "image/png": "[encoded data removed]"
          },
          "metadata": {}
        }
      ]
    },
    {
      "cell_type": "code",
      "source": [
        ""
      ],
      "metadata": {
        "id": "tNPcULnVh7AM"
      },
      "execution_count": 29,
      "outputs": []
    },
    {
      "cell_type": "markdown",
      "source": [
        "# Data Pre-processing"
      ],
      "metadata": {
        "id": "jak_dJGPh906"
      }
    },
    {
      "cell_type": "code",
      "source": [
        "# checking unique values in the columns of train dataset\n",
        "DF.apply(lambda x: len(x.unique()))"
      ],
      "metadata": {
        "colab": {
          "base_uri": "https://localhost:8080/"
        },
        "id": "-f9aP0BOh_St",
        "outputId": "18f487d4-d70c-41f2-ec06-30b92ae5e469"
      },
      "execution_count": 30,
      "outputs": [
        {
          "output_type": "execute_result",
          "data": {
            "text/plain": [
              "Item_Identifier              1559\n",
              "Item_Weight                   416\n",
              "Item_Fat_Content                5\n",
              "Item_Visibility              7880\n",
              "Item_Type                      16\n",
              "Item_MRP                     5938\n",
              "Outlet_Identifier              10\n",
              "Outlet_Establishment_Year       9\n",
              "Outlet_Size                     4\n",
              "Outlet_Location_Type            3\n",
              "Outlet_Type                     4\n",
              "Item_Outlet_Sales            3493\n",
              "dtype: int64"
            ]
          },
          "metadata": {},
          "execution_count": 30
        }
      ]
    },
    {
      "cell_type": "code",
      "source": [
        "# Checking for missing values\n",
        "DF.isnull().sum()"
      ],
      "metadata": {
        "colab": {
          "base_uri": "https://localhost:8080/"
        },
        "id": "OASWRN5uiCVs",
        "outputId": "e6361ebb-e90e-4789-cd1f-e6e11f075489"
      },
      "execution_count": 31,
      "outputs": [
        {
          "output_type": "execute_result",
          "data": {
            "text/plain": [
              "Item_Identifier                 0\n",
              "Item_Weight                  1463\n",
              "Item_Fat_Content                0\n",
              "Item_Visibility                 0\n",
              "Item_Type                       0\n",
              "Item_MRP                        0\n",
              "Outlet_Identifier               0\n",
              "Outlet_Establishment_Year       0\n",
              "Outlet_Size                  2410\n",
              "Outlet_Location_Type            0\n",
              "Outlet_Type                     0\n",
              "Item_Outlet_Sales               0\n",
              "dtype: int64"
            ]
          },
          "metadata": {},
          "execution_count": 31
        }
      ]
    },
    {
      "cell_type": "code",
      "source": [
        "# Imputing Missing values\n",
        "DF['Item_Weight'] = DF['Item_Weight'].replace(0, np.NaN)\n",
        "DF['Item_Weight'].fillna(DF['Item_Weight'].mean(), inplace = True)"
      ],
      "metadata": {
        "id": "2nDA-X11iEcV"
      },
      "execution_count": 32,
      "outputs": []
    },
    {
      "cell_type": "code",
      "source": [
        "DF['Outlet_Size'].fillna(DF['Outlet_Size'].mode()[0], inplace = True)"
      ],
      "metadata": {
        "id": "120_hZ6DiIDm"
      },
      "execution_count": 33,
      "outputs": []
    },
    {
      "cell_type": "code",
      "source": [
        "# again checking for missing values\n",
        "DF.isnull().sum()"
      ],
      "metadata": {
        "colab": {
          "base_uri": "https://localhost:8080/"
        },
        "id": "8nSW83gNiL3b",
        "outputId": "cd9f4794-3bc2-4339-b164-1b132ddf2e7f"
      },
      "execution_count": 34,
      "outputs": [
        {
          "output_type": "execute_result",
          "data": {
            "text/plain": [
              "Item_Identifier              0\n",
              "Item_Weight                  0\n",
              "Item_Fat_Content             0\n",
              "Item_Visibility              0\n",
              "Item_Type                    0\n",
              "Item_MRP                     0\n",
              "Outlet_Identifier            0\n",
              "Outlet_Establishment_Year    0\n",
              "Outlet_Size                  0\n",
              "Outlet_Location_Type         0\n",
              "Outlet_Type                  0\n",
              "Item_Outlet_Sales            0\n",
              "dtype: int64"
            ]
          },
          "metadata": {},
          "execution_count": 34
        }
      ]
    },
    {
      "cell_type": "code",
      "source": [
        "# combining reg, Regular and Low Fat, low fat and, LF\n",
        "DF['Item_Fat_Content'] = DF['Item_Fat_Content'].replace({'LF': 'Low Fat', 'reg': 'Regular', 'low fat': 'Low Fat'})\n",
        "DF['Item_Fat_Content'].value_counts()"
      ],
      "metadata": {
        "colab": {
          "base_uri": "https://localhost:8080/"
        },
        "id": "BsY9K5c2iODC",
        "outputId": "62bc40c1-085d-4fc3-8cdf-db138e5a0296"
      },
      "execution_count": 35,
      "outputs": [
        {
          "output_type": "execute_result",
          "data": {
            "text/plain": [
              "Low Fat    5517\n",
              "Regular    3006\n",
              "Name: Item_Fat_Content, dtype: int64"
            ]
          },
          "metadata": {},
          "execution_count": 35
        }
      ]
    },
    {
      "cell_type": "code",
      "source": [
        "# Getting the first two characters of ID to separate them into different categories\n",
        "DF['Item_Identifier'] = DF['Item_Identifier'].apply(lambda x: x[0:2])"
      ],
      "metadata": {
        "id": "9hSnoUUaiRgS"
      },
      "execution_count": 36,
      "outputs": []
    },
    {
      "cell_type": "code",
      "source": [
        "DF['Item_Identifier'] = DF['Item_Identifier'].map({'FD':'Food', 'NC':'Non_Consumable', 'DR':'Drinks'})\n",
        "DF['Item_Identifier'].value_counts()"
      ],
      "metadata": {
        "colab": {
          "base_uri": "https://localhost:8080/"
        },
        "id": "8OzdaQe0iToE",
        "outputId": "9ec44639-d04d-492c-926b-97658dfe33a6"
      },
      "execution_count": 37,
      "outputs": [
        {
          "output_type": "execute_result",
          "data": {
            "text/plain": [
              "Food              6125\n",
              "Non_Consumable    1599\n",
              "Drinks             799\n",
              "Name: Item_Identifier, dtype: int64"
            ]
          },
          "metadata": {},
          "execution_count": 37
        }
      ]
    },
    {
      "cell_type": "code",
      "source": [
        "# determining the operation peroid of a time\n",
        "DF['Outlet_Years'] = 2013 - DF['Outlet_Establishment_Year']\n",
        "DF['Outlet_Years'].value_counts()"
      ],
      "metadata": {
        "colab": {
          "base_uri": "https://localhost:8080/"
        },
        "id": "W9k4N8EXiVa9",
        "outputId": "f9cd4f24-8e0f-49d7-c3ab-91aa6d6a7c87"
      },
      "execution_count": 38,
      "outputs": [
        {
          "output_type": "execute_result",
          "data": {
            "text/plain": [
              "28    1463\n",
              "26     932\n",
              "14     930\n",
              "16     930\n",
              "9      930\n",
              "11     929\n",
              "4      928\n",
              "6      926\n",
              "15     555\n",
              "Name: Outlet_Years, dtype: int64"
            ]
          },
          "metadata": {},
          "execution_count": 38
        }
      ]
    },
    {
      "cell_type": "code",
      "source": [
        "# removing unnecassary columns from the dataset\n",
        "DF = DF.drop('Item_Identifier', axis = 1)\n",
        "print(DF.shape)"
      ],
      "metadata": {
        "colab": {
          "base_uri": "https://localhost:8080/"
        },
        "id": "vffJdKeJiXH4",
        "outputId": "0238dd51-b45b-4642-977e-6d2097cd8b90"
      },
      "execution_count": 39,
      "outputs": [
        {
          "output_type": "stream",
          "name": "stdout",
          "text": [
            "(8523, 12)\n"
          ]
        }
      ]
    },
    {
      "cell_type": "code",
      "source": [
        ""
      ],
      "metadata": {
        "id": "k7UcQkhHiaum"
      },
      "execution_count": 39,
      "outputs": []
    },
    {
      "cell_type": "markdown",
      "source": [
        "# Label Encoding"
      ],
      "metadata": {
        "id": "AygRWFbaic84"
      }
    },
    {
      "cell_type": "code",
      "source": [
        "from sklearn.preprocessing import LabelEncoder\n",
        "DF.apply(LabelEncoder().fit_transform)"
      ],
      "metadata": {
        "colab": {
          "base_uri": "https://localhost:8080/",
          "height": 488
        },
        "id": "xifSbWe6id8E",
        "outputId": "290259d9-dccd-4ed4-fd8a-0d49f443685a"
      },
      "execution_count": 40,
      "outputs": [
        {
          "output_type": "execute_result",
          "data": {
            "text/plain": [
              "      Item_Weight  Item_Fat_Content  Item_Visibility  Item_Type  Item_MRP  \\\n",
              "0             284                 0              664          4      5592   \n",
              "1              57                 1              880         14       473   \n",
              "2             376                 0              715         10      2901   \n",
              "3             393                 1                0          6      4227   \n",
              "4             265                 0                0          9       627   \n",
              "...           ...               ...              ...        ...       ...   \n",
              "8518          125                 0             3912         13      4955   \n",
              "8519          233                 1             3278          0      2023   \n",
              "8520          299                 0             2302          8      1263   \n",
              "8521          149                 1             7175         13      1857   \n",
              "8522          347                 0             3108         14      1011   \n",
              "\n",
              "      Outlet_Identifier  Outlet_Establishment_Year  Outlet_Size  \\\n",
              "0                     9                          4            1   \n",
              "1                     3                          8            1   \n",
              "2                     9                          4            1   \n",
              "3                     0                          3            1   \n",
              "4                     1                          1            0   \n",
              "...                 ...                        ...          ...   \n",
              "8518                  1                          1            0   \n",
              "8519                  7                          5            1   \n",
              "8520                  6                          6            2   \n",
              "8521                  3                          8            1   \n",
              "8522                  8                          2            2   \n",
              "\n",
              "      Outlet_Location_Type  Outlet_Type  Item_Outlet_Sales  Outlet_Years  \n",
              "0                        0            1               2540             4  \n",
              "1                        2            2                422             0  \n",
              "2                        0            1               1639             4  \n",
              "3                        2            0                670             5  \n",
              "4                        2            1                865             7  \n",
              "...                    ...          ...                ...           ...  \n",
              "8518                     2            1               2047             7  \n",
              "8519                     1            1                516             3  \n",
              "8520                     1            1               1018             2  \n",
              "8521                     2            2               1466             0  \n",
              "8522                     0            1                697             6  \n",
              "\n",
              "[8523 rows x 12 columns]"
            ],
            "text/html": [
              "\n",
              "  <div id=\"df-de57fba2-b6f1-45b8-98bd-6a3ee04691bb\">\n",
              "    <div class=\"colab-df-container\">\n",
              "      <div>\n",
              "<style scoped>\n",
              "    .dataframe tbody tr th:only-of-type {\n",
              "        vertical-align: middle;\n",
              "    }\n",
              "\n",
              "    .dataframe tbody tr th {\n",
              "        vertical-align: top;\n",
              "    }\n",
              "\n",
              "    .dataframe thead th {\n",
              "        text-align: right;\n",
              "    }\n",
              "</style>\n",
              "<table border=\"1\" class=\"dataframe\">\n",
              "  <thead>\n",
              "    <tr style=\"text-align: right;\">\n",
              "      <th></th>\n",
              "      <th>Item_Weight</th>\n",
              "      <th>Item_Fat_Content</th>\n",
              "      <th>Item_Visibility</th>\n",
              "      <th>Item_Type</th>\n",
              "      <th>Item_MRP</th>\n",
              "      <th>Outlet_Identifier</th>\n",
              "      <th>Outlet_Establishment_Year</th>\n",
              "      <th>Outlet_Size</th>\n",
              "      <th>Outlet_Location_Type</th>\n",
              "      <th>Outlet_Type</th>\n",
              "      <th>Item_Outlet_Sales</th>\n",
              "      <th>Outlet_Years</th>\n",
              "    </tr>\n",
              "  </thead>\n",
              "  <tbody>\n",
              "    <tr>\n",
              "      <th>0</th>\n",
              "      <td>284</td>\n",
              "      <td>0</td>\n",
              "      <td>664</td>\n",
              "      <td>4</td>\n",
              "      <td>5592</td>\n",
              "      <td>9</td>\n",
              "      <td>4</td>\n",
              "      <td>1</td>\n",
              "      <td>0</td>\n",
              "      <td>1</td>\n",
              "      <td>2540</td>\n",
              "      <td>4</td>\n",
              "    </tr>\n",
              "    <tr>\n",
              "      <th>1</th>\n",
              "      <td>57</td>\n",
              "      <td>1</td>\n",
              "      <td>880</td>\n",
              "      <td>14</td>\n",
              "      <td>473</td>\n",
              "      <td>3</td>\n",
              "      <td>8</td>\n",
              "      <td>1</td>\n",
              "      <td>2</td>\n",
              "      <td>2</td>\n",
              "      <td>422</td>\n",
              "      <td>0</td>\n",
              "    </tr>\n",
              "    <tr>\n",
              "      <th>2</th>\n",
              "      <td>376</td>\n",
              "      <td>0</td>\n",
              "      <td>715</td>\n",
              "      <td>10</td>\n",
              "      <td>2901</td>\n",
              "      <td>9</td>\n",
              "      <td>4</td>\n",
              "      <td>1</td>\n",
              "      <td>0</td>\n",
              "      <td>1</td>\n",
              "      <td>1639</td>\n",
              "      <td>4</td>\n",
              "    </tr>\n",
              "    <tr>\n",
              "      <th>3</th>\n",
              "      <td>393</td>\n",
              "      <td>1</td>\n",
              "      <td>0</td>\n",
              "      <td>6</td>\n",
              "      <td>4227</td>\n",
              "      <td>0</td>\n",
              "      <td>3</td>\n",
              "      <td>1</td>\n",
              "      <td>2</td>\n",
              "      <td>0</td>\n",
              "      <td>670</td>\n",
              "      <td>5</td>\n",
              "    </tr>\n",
              "    <tr>\n",
              "      <th>4</th>\n",
              "      <td>265</td>\n",
              "      <td>0</td>\n",
              "      <td>0</td>\n",
              "      <td>9</td>\n",
              "      <td>627</td>\n",
              "      <td>1</td>\n",
              "      <td>1</td>\n",
              "      <td>0</td>\n",
              "      <td>2</td>\n",
              "      <td>1</td>\n",
              "      <td>865</td>\n",
              "      <td>7</td>\n",
              "    </tr>\n",
              "    <tr>\n",
              "      <th>...</th>\n",
              "      <td>...</td>\n",
              "      <td>...</td>\n",
              "      <td>...</td>\n",
              "      <td>...</td>\n",
              "      <td>...</td>\n",
              "      <td>...</td>\n",
              "      <td>...</td>\n",
              "      <td>...</td>\n",
              "      <td>...</td>\n",
              "      <td>...</td>\n",
              "      <td>...</td>\n",
              "      <td>...</td>\n",
              "    </tr>\n",
              "    <tr>\n",
              "      <th>8518</th>\n",
              "      <td>125</td>\n",
              "      <td>0</td>\n",
              "      <td>3912</td>\n",
              "      <td>13</td>\n",
              "      <td>4955</td>\n",
              "      <td>1</td>\n",
              "      <td>1</td>\n",
              "      <td>0</td>\n",
              "      <td>2</td>\n",
              "      <td>1</td>\n",
              "      <td>2047</td>\n",
              "      <td>7</td>\n",
              "    </tr>\n",
              "    <tr>\n",
              "      <th>8519</th>\n",
              "      <td>233</td>\n",
              "      <td>1</td>\n",
              "      <td>3278</td>\n",
              "      <td>0</td>\n",
              "      <td>2023</td>\n",
              "      <td>7</td>\n",
              "      <td>5</td>\n",
              "      <td>1</td>\n",
              "      <td>1</td>\n",
              "      <td>1</td>\n",
              "      <td>516</td>\n",
              "      <td>3</td>\n",
              "    </tr>\n",
              "    <tr>\n",
              "      <th>8520</th>\n",
              "      <td>299</td>\n",
              "      <td>0</td>\n",
              "      <td>2302</td>\n",
              "      <td>8</td>\n",
              "      <td>1263</td>\n",
              "      <td>6</td>\n",
              "      <td>6</td>\n",
              "      <td>2</td>\n",
              "      <td>1</td>\n",
              "      <td>1</td>\n",
              "      <td>1018</td>\n",
              "      <td>2</td>\n",
              "    </tr>\n",
              "    <tr>\n",
              "      <th>8521</th>\n",
              "      <td>149</td>\n",
              "      <td>1</td>\n",
              "      <td>7175</td>\n",
              "      <td>13</td>\n",
              "      <td>1857</td>\n",
              "      <td>3</td>\n",
              "      <td>8</td>\n",
              "      <td>1</td>\n",
              "      <td>2</td>\n",
              "      <td>2</td>\n",
              "      <td>1466</td>\n",
              "      <td>0</td>\n",
              "    </tr>\n",
              "    <tr>\n",
              "      <th>8522</th>\n",
              "      <td>347</td>\n",
              "      <td>0</td>\n",
              "      <td>3108</td>\n",
              "      <td>14</td>\n",
              "      <td>1011</td>\n",
              "      <td>8</td>\n",
              "      <td>2</td>\n",
              "      <td>2</td>\n",
              "      <td>0</td>\n",
              "      <td>1</td>\n",
              "      <td>697</td>\n",
              "      <td>6</td>\n",
              "    </tr>\n",
              "  </tbody>\n",
              "</table>\n",
              "<p>8523 rows × 12 columns</p>\n",
              "</div>\n",
              "      <button class=\"colab-df-convert\" onclick=\"convertToInteractive('df-de57fba2-b6f1-45b8-98bd-6a3ee04691bb')\"\n",
              "              title=\"Convert this dataframe to an interactive table.\"\n",
              "              style=\"display:none;\">\n",
              "        \n",
              "  <svg xmlns=\"http://www.w3.org/2000/svg\" height=\"24px\"viewBox=\"0 0 24 24\"\n",
              "       width=\"24px\">\n",
              "    <path d=\"M0 0h24v24H0V0z\" fill=\"none\"/>\n",
              "    <path d=\"M18.56 5.44l.94 2.06.94-2.06 2.06-.94-2.06-.94-.94-2.06-.94 2.06-2.06.94zm-11 1L8.5 8.5l.94-2.06 2.06-.94-2.06-.94L8.5 2.5l-.94 2.06-2.06.94zm10 10l.94 2.06.94-2.06 2.06-.94-2.06-.94-.94-2.06-.94 2.06-2.06.94z\"/><path d=\"M17.41 7.96l-1.37-1.37c-.4-.4-.92-.59-1.43-.59-.52 0-1.04.2-1.43.59L10.3 9.45l-7.72 7.72c-.78.78-.78 2.05 0 2.83L4 21.41c.39.39.9.59 1.41.59.51 0 1.02-.2 1.41-.59l7.78-7.78 2.81-2.81c.8-.78.8-2.07 0-2.86zM5.41 20L4 18.59l7.72-7.72 1.47 1.35L5.41 20z\"/>\n",
              "  </svg>\n",
              "      </button>\n",
              "      \n",
              "  <style>\n",
              "    .colab-df-container {\n",
              "      display:flex;\n",
              "      flex-wrap:wrap;\n",
              "      gap: 12px;\n",
              "    }\n",
              "\n",
              "    .colab-df-convert {\n",
              "      background-color: #E8F0FE;\n",
              "      border: none;\n",
              "      border-radius: 50%;\n",
              "      cursor: pointer;\n",
              "      display: none;\n",
              "      fill: #1967D2;\n",
              "      height: 32px;\n",
              "      padding: 0 0 0 0;\n",
              "      width: 32px;\n",
              "    }\n",
              "\n",
              "    .colab-df-convert:hover {\n",
              "      background-color: #E2EBFA;\n",
              "      box-shadow: 0px 1px 2px rgba(60, 64, 67, 0.3), 0px 1px 3px 1px rgba(60, 64, 67, 0.15);\n",
              "      fill: #174EA6;\n",
              "    }\n",
              "\n",
              "    [theme=dark] .colab-df-convert {\n",
              "      background-color: #3B4455;\n",
              "      fill: #D2E3FC;\n",
              "    }\n",
              "\n",
              "    [theme=dark] .colab-df-convert:hover {\n",
              "      background-color: #434B5C;\n",
              "      box-shadow: 0px 1px 3px 1px rgba(0, 0, 0, 0.15);\n",
              "      filter: drop-shadow(0px 1px 2px rgba(0, 0, 0, 0.3));\n",
              "      fill: #FFFFFF;\n",
              "    }\n",
              "  </style>\n",
              "\n",
              "      <script>\n",
              "        const buttonEl =\n",
              "          document.querySelector('#df-de57fba2-b6f1-45b8-98bd-6a3ee04691bb button.colab-df-convert');\n",
              "        buttonEl.style.display =\n",
              "          google.colab.kernel.accessAllowed ? 'block' : 'none';\n",
              "\n",
              "        async function convertToInteractive(key) {\n",
              "          const element = document.querySelector('#df-de57fba2-b6f1-45b8-98bd-6a3ee04691bb');\n",
              "          const dataTable =\n",
              "            await google.colab.kernel.invokeFunction('convertToInteractive',\n",
              "                                                     [key], {});\n",
              "          if (!dataTable) return;\n",
              "\n",
              "          const docLinkHtml = 'Like what you see? Visit the ' +\n",
              "            '<a target=\"_blank\" href=https://colab.research.google.com/notebooks/data_table.ipynb>data table notebook</a>'\n",
              "            + ' to learn more about interactive tables.';\n",
              "          element.innerHTML = '';\n",
              "          dataTable['output_type'] = 'display_data';\n",
              "          await google.colab.output.renderOutput(dataTable, element);\n",
              "          const docLink = document.createElement('div');\n",
              "          docLink.innerHTML = docLinkHtml;\n",
              "          element.appendChild(docLink);\n",
              "        }\n",
              "      </script>\n",
              "    </div>\n",
              "  </div>\n",
              "  "
            ]
          },
          "metadata": {},
          "execution_count": 40
        }
      ]
    },
    {
      "cell_type": "code",
      "source": [
        "# one hot encoding\n",
        "DF = pd.get_dummies(DF)\n",
        "print(DF.shape)"
      ],
      "metadata": {
        "colab": {
          "base_uri": "https://localhost:8080/"
        },
        "id": "gxwVZ8yTiiKH",
        "outputId": "5d0b73e9-82d9-4453-a366-deca58a90cc7"
      },
      "execution_count": 41,
      "outputs": [
        {
          "output_type": "stream",
          "name": "stdout",
          "text": [
            "(8523, 44)\n"
          ]
        }
      ]
    },
    {
      "cell_type": "code",
      "source": [
        "# splitting the data into dependent and independent variables\n",
        "x = DF.drop('Item_Outlet_Sales', axis = 1)\n",
        "y = DF.Item_Outlet_Sales"
      ],
      "metadata": {
        "id": "OXLVHCSoik1m"
      },
      "execution_count": 42,
      "outputs": []
    },
    {
      "cell_type": "code",
      "source": [
        "print(x.shape)\n",
        "print(y.shape)\n"
      ],
      "metadata": {
        "colab": {
          "base_uri": "https://localhost:8080/"
        },
        "id": "_5M5UwLDinHo",
        "outputId": "6a6ef15a-df7b-4a30-be37-3cf61931fb11"
      },
      "execution_count": 43,
      "outputs": [
        {
          "output_type": "stream",
          "name": "stdout",
          "text": [
            "(8523, 43)\n",
            "(8523,)\n"
          ]
        }
      ]
    },
    {
      "cell_type": "code",
      "source": [
        ""
      ],
      "metadata": {
        "id": "wyOIt63niqgT"
      },
      "execution_count": 43,
      "outputs": []
    },
    {
      "cell_type": "markdown",
      "source": [
        "# Splitting data into Training data and Testing data"
      ],
      "metadata": {
        "id": "-JCKbfKIivM7"
      }
    },
    {
      "cell_type": "code",
      "source": [
        "#splitting into train and test\n",
        "from sklearn.model_selection import train_test_split\n",
        "x_train,x_test,y_train,y_test = train_test_split(x,y,test_size = 0.2,random_state = 0)"
      ],
      "metadata": {
        "id": "vgm8ab73iwTV"
      },
      "execution_count": 44,
      "outputs": []
    },
    {
      "cell_type": "markdown",
      "source": [
        "# Modelling"
      ],
      "metadata": {
        "id": "UQTNPRMfi0ql"
      }
    },
    {
      "cell_type": "markdown",
      "source": [
        "# Linear Regression Model"
      ],
      "metadata": {
        "id": "XlwBthOwi5rx"
      }
    },
    {
      "cell_type": "code",
      "source": [
        "from sklearn.linear_model import LinearRegression\n",
        "from sklearn.metrics import mean_squared_error\n",
        "from sklearn.metrics import r2_score\n",
        "\n",
        "model = LinearRegression()\n",
        "model.fit(x_train, y_train)\n",
        "\n",
        "# predicting the  test set results\n",
        "y_pred = model.predict(x_test)\n",
        "print(y_pred)\n",
        "\n",
        "# finding the mean squared error and variance\n",
        "mse = mean_squared_error(y_test, y_pred)\n",
        "print('RMSE :', np.sqrt(mse))\n",
        "print('Variance score: %.2f' % r2_score(y_test, y_pred))"
      ],
      "metadata": {
        "colab": {
          "base_uri": "https://localhost:8080/"
        },
        "id": "J5oNGnJui1zt",
        "outputId": "44a8ec20-8189-44e9-c82e-86e47dfb8d6e"
      },
      "execution_count": 45,
      "outputs": [
        {
          "output_type": "stream",
          "name": "stdout",
          "text": [
            "[ 2450.47347974  2536.85851504  2209.2944831  ...  4261.94385727\n",
            " -1058.0538482   5417.45093856]\n",
            "RMSE : 1131.7926064920482\n",
            "Variance score: 0.56\n"
          ]
        }
      ]
    },
    {
      "cell_type": "code",
      "source": [
        ""
      ],
      "metadata": {
        "id": "pZv8TKuLjBbP"
      },
      "execution_count": 45,
      "outputs": []
    },
    {
      "cell_type": "markdown",
      "source": [
        "# Random Forest Regressor"
      ],
      "metadata": {
        "id": "vp9e1NSJjDF9"
      }
    },
    {
      "cell_type": "code",
      "source": [
        "from sklearn.ensemble import RandomForestRegressor\n",
        "\n",
        "model = RandomForestRegressor(n_estimators = 100 , n_jobs = -1)\n",
        "model.fit(x_train, y_train)\n",
        "\n",
        "# predicting the  test set results\n",
        "y_pred = model.predict(x_test)\n",
        "print(y_pred)\n",
        "\n",
        "# finding the mean squared error and variance\n",
        "mse = mean_squared_error(y_test, y_pred)\n",
        "print(\"RMSE :\",np.sqrt(mse))\n",
        "print('Variance score: %.2f' % r2_score(y_test, y_pred))\n",
        "\n",
        "print(\"Result :\",model.score(x_train, y_train))"
      ],
      "metadata": {
        "colab": {
          "base_uri": "https://localhost:8080/"
        },
        "id": "XPSx7HI4jEEn",
        "outputId": "fc4e718b-fc28-4ba8-c4ba-c8d3a1c99d64"
      },
      "execution_count": 46,
      "outputs": [
        {
          "output_type": "stream",
          "name": "stdout",
          "text": [
            "[2442.806884 1525.0149   2656.621896 ... 5153.931168  168.14779\n",
            " 5451.50382 ]\n",
            "RMSE : 1134.3247839889295\n",
            "Variance score: 0.56\n",
            "Result : 0.9384203533608333\n"
          ]
        }
      ]
    },
    {
      "cell_type": "markdown",
      "source": [
        "# Final Accuracy\n",
        "\n",
        "RandomForestRegressor gives results 0.939395555086\n",
        "\n",
        "We can conclude that Random Forest Regressor algorithm works better to predict Big Mart Sales"
      ],
      "metadata": {
        "id": "fClay9lWjMqD"
      }
    }
  ]
}